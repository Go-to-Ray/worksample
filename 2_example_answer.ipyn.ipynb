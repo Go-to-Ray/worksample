{
 "cells": [
  {
   "cell_type": "markdown",
   "metadata": {},
   "source": [
    "# 紙を折る  \n",
    "## 【問題1】べき乗の算術演算子を使用して作成  \n",
    "べき乗の算術演算子を使用したプログラムを作ってください。  \n",
    "雛形として紙を1回折った時の厚さを計算するコードを用意しました。これを43回折った時のコードに書き換えてください。"
   ]
  },
  {
   "cell_type": "code",
   "execution_count": 3,
   "metadata": {},
   "outputs": [
    {
     "name": "stdout",
     "output_type": "stream",
     "text": [
      "厚さ： 703687441.77664メートル\n"
     ]
    }
   ],
   "source": [
    "\"\"\"\n",
    "紙を43回折った時の厚さを計算するコード\n",
    "\"\"\"\n",
    "\n",
    "THICKNESS = 0.00008\n",
    "\n",
    "#x^yはPython上でx**yと書きます。\n",
    "#Pythonでも計算の優先順位があるので指数計算が先に行われます。\n",
    "folded_thickness = THICKNESS*2**43\n",
    "\n",
    "print(\"厚さ： {}メートル\".format(folded_thickness))"
   ]
  },
  {
   "cell_type": "markdown",
   "metadata": {},
   "source": [
    "今回は簡単な式ですが、複雑な計算式だと間違いが起きやすくなるので、\n",
    "()やスペースを使ってわかりやすくすると良いと思います。  \n",
    "以下にコードの例を示します。"
   ]
  },
  {
   "cell_type": "code",
   "execution_count": 4,
   "metadata": {},
   "outputs": [
    {
     "name": "stdout",
     "output_type": "stream",
     "text": [
      "0.8660254037844386\n",
      "0.8660254037844386\n"
     ]
    }
   ],
   "source": [
    "#例：\n",
    "folded_thickness = THICKNESS*(2**43)  \n",
    "#簡単だと必要性を感じないかもしれないので\n",
    "#応用例:\n",
    "import numpy as np\n",
    "a=np.pi/6\n",
    "b=np.pi/6\n",
    "c=10\n",
    "d=10\n",
    "answer1 = np.sin(a+b)/c/d*10**2\n",
    "answer2 = np.sin(a+b)*(10**2)/(c*d)\n",
    "print(answer1)\n",
    "print(answer2)"
   ]
  },
  {
   "cell_type": "markdown",
   "metadata": {},
   "source": [
    "## 【問題2】単位の変換  \n",
    "\n",
    "単位がメートルだと実感が湧きづらいので、◯◯万キロメートル に変換して表示させてください。  \n",
    "サンプルとして ◯◯キロメートル に変換したコードを用意したので、参考にして取り組んでください。小数点以下は2桁まで表示されるようにも指定しています。"
   ]
  },
  {
   "cell_type": "code",
   "execution_count": 5,
   "metadata": {
    "scrolled": true
   },
   "outputs": [
    {
     "name": "stdout",
     "output_type": "stream",
     "text": [
      "厚さ： 70.37万キロメートル\n"
     ]
    }
   ],
   "source": [
    "# メートルをキロメートルに変換して小数点以下2桁で表示する\n",
    "print(\"厚さ： {:.2f}万キロメートル\".format(folded_thickness/10000000))"
   ]
  },
  {
   "cell_type": "markdown",
   "metadata": {},
   "source": [
    "小数点の数はfの前の値で任意に決めることができます。  \n",
    "月までの距離は38.4400kmつまり,38.44万キロメートルなので、43回紙を折ると月まで届きます。届きましたか？  \n",
    "どうせなのでif文を書いて判別しましょう。"
   ]
  },
  {
   "cell_type": "code",
   "execution_count": 6,
   "metadata": {},
   "outputs": [
    {
     "name": "stdout",
     "output_type": "stream",
     "text": [
      "月まで届きました\n"
     ]
    }
   ],
   "source": [
    "distance = 384400000  #(m)換算\n",
    "if folded_thickness>=distance:\n",
    "    print(\"月まで届きました\")\n",
    "else:\n",
    "    print(\"月まで届いていません\")"
   ]
  },
  {
   "cell_type": "markdown",
   "metadata": {},
   "source": [
    "## 【問題3】for文を使用して作成  \n",
    "\n",
    "次に、for文を使用したプログラムを作ってください。"
   ]
  },
  {
   "cell_type": "code",
   "execution_count": 7,
   "metadata": {},
   "outputs": [
    {
     "name": "stdout",
     "output_type": "stream",
     "text": [
      "703687441.77664\n"
     ]
    }
   ],
   "source": [
    "folded_thickness=THICKNESS\n",
    "\n",
    "for i in range(43):\n",
    "    folded_thickness *= 2\n",
    "print(folded_thickness)"
   ]
  },
  {
   "cell_type": "markdown",
   "metadata": {},
   "source": [
    "問題１で出力された値と同じになっていることが確認できると思います。\n",
    "同じ結果になっていますが、何が異なっているか比較してみましょう。"
   ]
  },
  {
   "cell_type": "markdown",
   "metadata": {},
   "source": [
    "## 【問題4】計算時間の比較  \n",
    "\n",
    "2つの方法はどちらが正しいわけでもありませんが、コードの良さを評価する際には以下のような着目点があります。\n",
    "\n",
    "- 計算速度\n",
    "- メモリの使用量\n",
    "- 可読性\n",
    "- 拡張性\n",
    "- 再利用性\n",
    "\n",
    "今回は計算速度を比較してみます。"
   ]
  },
  {
   "cell_type": "code",
   "execution_count": 8,
   "metadata": {},
   "outputs": [
    {
     "name": "stdout",
     "output_type": "stream",
     "text": [
      "time : 0.0119330883[ms]\n"
     ]
    }
   ],
   "source": [
    "import time\n",
    "start = time.time()\n",
    "\n",
    "#実行したいプログラムの#を消して、実行したくないプログラムに#をつけてください\n",
    "#このfor文は実行時間が短すぎるため、わかりやすくするために使っています\n",
    "for k in range(1000):\n",
    "    folded_thickness = THICKNESS\n",
    "    \n",
    "    #指数計算\n",
    "    #folded_thickness = THICKNESS*2**43\n",
    "    \n",
    "    #for文\n",
    "    for i in range(43):\n",
    "        folded_thickness *= 2\n",
    "\n",
    "elapsed_time = time.time() - start\n",
    "print(\"time : {:.10f}[ms]\".format(elapsed_time))"
   ]
  },
  {
   "cell_type": "markdown",
   "metadata": {},
   "source": [
    "どちらも実行してみるとわかると思いますが、計算時間においてはfor文を使わないほうが早くなります。指数関数では１回の計算で済むのに対し、for文を使うと43回計算することになります。結果として計算時間に差が生じています。  \n",
    " \n",
    "\n",
    "# 過程の可視化  \n",
    "\n",
    "## 【問題5】リストへの保存\n",
    "\n",
    "ここまでは43回折った後の最後の値だけを使用していましたが、グラフで可視化するためには過程の値も必要です。for文を使用したコードに、過程の値合計44個を記録するコードを加えてください。\n",
    "最終的にリストに44個の値が格納されていることをlen関数を用いて確認しておきましょう。"
   ]
  },
  {
   "cell_type": "code",
   "execution_count": 9,
   "metadata": {},
   "outputs": [
    {
     "name": "stdout",
     "output_type": "stream",
     "text": [
      "44\n"
     ]
    }
   ],
   "source": [
    "folded_thickness = THICKNESS\n",
    "folded_list = []  #ここに過程を保存（ｙ軸）任意の名前でよい\n",
    "\n",
    "#43回目を保存するため44回繰り返しています\n",
    "for i in range(44):\n",
    "    folded_list.append(folded_thickness)\n",
    "    folded_thickness *= 2\n",
    "\n",
    "#データの数を確認\n",
    "print(len(folded_list))"
   ]
  },
  {
   "cell_type": "markdown",
   "metadata": {},
   "source": [
    "こういった過程を保存していく場合では、指数計算を用いても、どちらでもよいと思います。  \n",
    "また、なぜ44回繰り返すのか、という疑問があると思う。これはfor文の中を見るとわかります。  \n",
    "1. folded_listにfolded_thicknessを追加  \n",
    "2. i+1回折った時の厚さを計算  \n",
    "\n",
    "という順序になっているので、43回折った時の厚さを保存するためには44回繰り返さなければいけないのです。for文の外で最初の値を追加してから、i+1回折った値を計算して、リストに保存する。という形でも問題ありません。その場合は43回だけ繰り替えようにしましょう。    \n",
    "では配列に保存したデータを使って、過程をグラフとして出力してみましょう。  \n",
    "## 【問題6】折れ線グラフの表示"
   ]
  },
  {
   "cell_type": "code",
   "execution_count": 10,
   "metadata": {},
   "outputs": [
    {
     "data": {
      "text/plain": [
       "[<matplotlib.lines.Line2D at 0x172fa1afcc0>]"
      ]
     },
     "execution_count": 10,
     "metadata": {},
     "output_type": "execute_result"
    },
    {
     "data": {
      "image/png": "[encoded data removed]",
      "text/plain": [
       "<Figure size 432x288 with 1 Axes>"
      ]
     },
     "metadata": {
      "needs_background": "light"
     },
     "output_type": "display_data"
    }
   ],
   "source": [
    "#グラフ描画モジュールをimportします\n",
    "import matplotlib.pyplot as plt\n",
    "#jupyter notebook上でグラフ描画するため\n",
    "%matplotlib inline\n",
    "#グラフのタイトル\n",
    "plt.title(\"thickness of folded paper\")\n",
    "#x軸のラベル（折った回数）\n",
    "plt.xlabel(\"number of folds\")\n",
    "#y軸のラベル（折った時の厚さ）\n",
    "plt.ylabel(\"thickness[m]\")\n",
    "plt.plot(folded_list) # 「folded_list」には自分で決めていた配列名を入れる"
   ]
  },
  {
   "cell_type": "markdown",
   "metadata": {},
   "source": [
    "指数関数によって急に増えていることが分かると思います。指数的な増加関数では想像以上に値が増加していくということが分かればいいです。  \n",
    "\n",
    "\n",
    "今回の場合は、x軸は０～４３までを、１ずつ増加するのでx軸を任意に設定しませんでしたが、x軸の値を自由に設定することができます。  \n",
    "以下に簡単な例を示します。"
   ]
  },
  {
   "cell_type": "code",
   "execution_count": 11,
   "metadata": {},
   "outputs": [
    {
     "data": {
      "text/plain": [
       "[<matplotlib.lines.Line2D at 0x172fa2284e0>]"
      ]
     },
     "execution_count": 11,
     "metadata": {},
     "output_type": "execute_result"
    },
    {
     "data": {
      "image/png": "[encoded data removed]",
      "text/plain": [
       "<Figure size 432x288 with 1 Axes>"
      ]
     },
     "metadata": {
      "needs_background": "light"
     },
     "output_type": "display_data"
    }
   ],
   "source": [
    "import numpy as np\n",
    "#0から0.1の間隔で2まで\n",
    "x = np.arange(0,2,0.1)\n",
    "y = np.sin(np.pi*x)\n",
    "plt.plot(x,y)"
   ]
  },
  {
   "cell_type": "markdown",
   "metadata": {},
   "source": [
    "## 【問題7】グラフのカスタマイズ\n",
    "\n",
    "ここでは作成したグラフをカスタマイズする練習をします。"
   ]
  },
  {
   "cell_type": "code",
   "execution_count": 13,
   "metadata": {},
   "outputs": [
    {
     "data": {
      "text/plain": [
       "[<matplotlib.lines.Line2D at 0x172fa2e2b38>]"
      ]
     },
     "execution_count": 13,
     "metadata": {},
     "output_type": "execute_result"
    },
    {
     "data": {
      "image/png": "[encoded data removed]",
      "text/plain": [
       "<Figure size 432x288 with 1 Axes>"
      ]
     },
     "metadata": {
      "needs_background": "light"
     },
     "output_type": "display_data"
    }
   ],
   "source": [
    "plt.title(\"thickness of folded paper\")\n",
    "plt.xlabel(\"number of folds\")\n",
    "plt.ylabel(\"thickness[m]\")\n",
    "plt.tick_params(labelsize=20) # 軸の値に関する設定を行う\n",
    "plt.plot(folded_list,linestyle=\"--\")"
   ]
  },
  {
   "cell_type": "code",
   "execution_count": 14,
   "metadata": {},
   "outputs": [
    {
     "data": {
      "text/plain": [
       "[<matplotlib.lines.Line2D at 0x172fa337a20>]"
      ]
     },
     "execution_count": 14,
     "metadata": {},
     "output_type": "execute_result"
    },
    {
     "data": {
      "image/png": "[encoded data removed]",
      "text/plain": [
       "<Figure size 432x288 with 1 Axes>"
      ]
     },
     "metadata": {
      "needs_background": "light"
     },
     "output_type": "display_data"
    }
   ],
   "source": [
    "plt.title(\"thickness of folded paper\")\n",
    "plt.xlabel(\"number of folds\")\n",
    "plt.ylabel(\"thickness[m]\")\n",
    "plt.tick_params(labelsize=20) # 軸の値に関する設定を行う\n",
    "plt.plot(folded_list,marker=\"o\")"
   ]
  },
  {
   "cell_type": "code",
   "execution_count": 15,
   "metadata": {},
   "outputs": [
    {
     "data": {
      "text/plain": [
       "[<matplotlib.lines.Line2D at 0x172fa379400>]"
      ]
     },
     "execution_count": 15,
     "metadata": {},
     "output_type": "execute_result"
    },
    {
     "data": {
      "image/png": "[encoded data removed]",
      "text/plain": [
       "<Figure size 432x288 with 1 Axes>"
      ]
     },
     "metadata": {
      "needs_background": "light"
     },
     "output_type": "display_data"
    }
   ],
   "source": [
    "plt.title(\"thickness of folded paper\")\n",
    "plt.xlabel(\"number of folds\")\n",
    "plt.ylabel(\"thickness[m]\")\n",
    "plt.tick_params(labelsize=20) # 軸の値に関する設定を行う\n",
    "plt.plot(folded_list,linewidth=5)"
   ]
  },
  {
   "cell_type": "code",
   "execution_count": 16,
   "metadata": {},
   "outputs": [
    {
     "data": {
      "text/plain": [
       "[<matplotlib.lines.Line2D at 0x172fa3e1748>]"
      ]
     },
     "execution_count": 16,
     "metadata": {},
     "output_type": "execute_result"
    },
    {
     "data": {
      "image/png": "[encoded data removed]",
      "text/plain": [
       "<Figure size 432x288 with 1 Axes>"
      ]
     },
     "metadata": {
      "needs_background": "light"
     },
     "output_type": "display_data"
    }
   ],
   "source": [
    "plt.title(\"thickness of folded paper\")\n",
    "plt.xlabel(\"number of folds\")\n",
    "plt.ylabel(\"thickness[m]\")\n",
    "plt.tick_params(labelsize=20) # 軸の値に関する設定を行う\n",
    "plt.plot(folded_list,color=\"g\")"
   ]
  },
  {
   "cell_type": "markdown",
   "metadata": {},
   "source": [
    "以上のように様々なグラフのカスタマイズができる。ここで重要なのが、あくまでこれはカスタマイズの練習であり、本来グラフのカスタマイズはあくまで「わかりやすくする」ためです。必要以上にカスタマイズを施す必要はありません。\n",
    "他にも様々なカスタマイズがありますので、matplotlibの公式ドキュメントを随時参照するといいと思います。  \n",
    "sin,cosを同時に描画して、凡例をグラフ内に表示するなどすると練習になるかもしれません。"
   ]
  },
  {
   "cell_type": "markdown",
   "metadata": {},
   "source": [
    "## 改善案  \n",
    "追加するとよさそうな記述や問題案は関係する問題に付随する形で記述しました。わかりにくい記述や、不適切な記述というほどではありませんが、計算速度を計算する部分で、単純な計算なので、計算回数を任意に増やしてもよいという旨の記述があるといいかもしれないと思いました。  \n",
    "グラフのカスタマイズの課題については、課題７の最後にも既述したように、「必ずカスタマイズするべき」ようなものではないと思うので、グラフによってはある程度カスタマイズしたほうがいい。という例だけ示して（例えばsin,cosなど）、カスタマイズができる事だけ覚えていてもらう形でいいと思ます。"
   ]
  }
 ],
 "metadata": {
  "kernelspec": {
   "display_name": "Python 3",
   "language": "python",
   "name": "python3"
  },
  "language_info": {
   "codemirror_mode": {
    "name": "ipython",
    "version": 3
   },
   "file_extension": ".py",
   "mimetype": "text/x-python",
   "name": "python",
   "nbconvert_exporter": "python",
   "pygments_lexer": "ipython3",
   "version": "3.7.3"
  }
 },
 "nbformat": 4,
 "nbformat_minor": 2
}
